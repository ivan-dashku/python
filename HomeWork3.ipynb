{
 "cells": [
  {
   "cell_type": "code",
   "execution_count": 5,
   "metadata": {},
   "outputs": [
    {
     "name": "stdout",
     "output_type": "stream",
     "text": [
      "[2.842170943040401e-14, -1.7763568394002505e-14, 1.4210854715202004e-14, -1.4210854715202004e-14, -7.105427357601002e-15, -2.1316282072803006e-14, -1.0658141036401503e-14, -2.4868995751603507e-14, 7.105427357601002e-15, 2.4868995751603507e-14]\n"
     ]
    }
   ],
   "source": [
    "from random import uniform\n",
    "n = 10\n",
    "td = [uniform(10, 25) for i in range(n)]\n",
    "tf = list(map(lambda x: 1.8*x+32, td))\n",
    "tc = list(map(lambda x: (x-32)/1.8+273.15, tf))\n",
    "print([td[i] - (tc[i]-273.15) for i in range(len(tc))])"
   ]
  },
  {
   "cell_type": "code",
   "execution_count": 23,
   "metadata": {},
   "outputs": [
    {
     "data": {
      "text/plain": [
       "{'x': 2, '3': 'fdfs', 'a': 9.0}"
      ]
     },
     "execution_count": 23,
     "metadata": {},
     "output_type": "execute_result"
    }
   ],
   "source": [
    "def getStrKeys(d):\n",
    "    dictlist = zip(d.keys(), d.values())\n",
    "    dictlist = filter(lambda x: type(x[0]) == str, dictlist)\n",
    "    return dict(dictlist)\n",
    "a = {'x':2, 4:'y', 4.0:'12', '3':'fdfs', 'a':9., b'pp':52}\n",
    "getStrKeys(a)"
   ]
  },
  {
   "cell_type": "code",
   "execution_count": 39,
   "metadata": {},
   "outputs": [
    {
     "name": "stdout",
     "output_type": "stream",
     "text": [
      "149760\n"
     ]
    }
   ],
   "source": [
    "from random import randint\n",
    "from functools import reduce\n",
    "n = randint(4,8)\n",
    "a = [randint(4,8) for i in range(n)]\n",
    "b = [randint(4,8) for i in range(n)]\n",
    "r = reduce(lambda x1,x2: x1*x2, list(map(lambda x1: x1[0] + x1[1], zip(a,b[::-1]))))\n",
    "print(r)"
   ]
  },
  {
   "cell_type": "code",
   "execution_count": null,
   "metadata": {},
   "outputs": [],
   "source": []
  }
 ],
 "metadata": {
  "kernelspec": {
   "display_name": "Python 3",
   "language": "python",
   "name": "python3"
  },
  "language_info": {
   "codemirror_mode": {
    "name": "ipython",
    "version": 3
   },
   "file_extension": ".py",
   "mimetype": "text/x-python",
   "name": "python",
   "nbconvert_exporter": "python",
   "pygments_lexer": "ipython3",
   "version": "3.6.5"
  }
 },
 "nbformat": 4,
 "nbformat_minor": 2
}
