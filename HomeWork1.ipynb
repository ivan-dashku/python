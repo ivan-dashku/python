{
 "cells": [
  {
   "cell_type": "code",
   "execution_count": 1,
   "metadata": {},
   "outputs": [
    {
     "data": {
      "text/plain": [
       "{44: 1937,\n",
       " 49: 2402,\n",
       " 54: 2917,\n",
       " 59: 3482,\n",
       " 64: 4097,\n",
       " 69: 4762,\n",
       " 74: 5477,\n",
       " 79: 6242,\n",
       " 84: 7057,\n",
       " 89: 7922}"
      ]
     },
     "execution_count": 1,
     "metadata": {},
     "output_type": "execute_result"
    }
   ],
   "source": [
    "a=40\n",
    "n=89\n",
    "d5 = {}\n",
    "while a<=n:\n",
    "      if a%5 == 4:\n",
    "          d5[a]=a ** 2 +1\n",
    "      a = a+1\n",
    "d5"
   ]
  },
  {
   "cell_type": "code",
   "execution_count": 2,
   "metadata": {},
   "outputs": [
    {
     "name": "stdout",
     "output_type": "stream",
     "text": [
      "boys: 37\n",
      "girls: 85\n"
     ]
    }
   ],
   "source": [
    "import collections\n",
    "i=0\n",
    "j=1\n",
    "boys=0\n",
    "girls=0\n",
    "d8 = collections.OrderedDict()\n",
    "d8 = {'1a':(15,15),'1b':(10,18),'1c':(12,20),'1d':(0,32)}\n",
    "for k, v in d8.items():\n",
    "    boys = boys + d8[k][i]\n",
    "    girls = girls + d8[k][j]\n",
    "print('boys:', boys)\n",
    "print('girls:', girls)"
   ]
  },
  {
   "cell_type": "code",
   "execution_count": 42,
   "metadata": {},
   "outputs": [
    {
     "name": "stdout",
     "output_type": "stream",
     "text": [
      "{'1': 10, '2': 17, '3': 23, '4': 13, '5': 20}\n",
      "{'1a': 3.0, '1b': 3.25, '1c': 3.375, '1d': 3.1515151515151514}\n"
     ]
    }
   ],
   "source": [
    "def f(d):\n",
    "    a={}\n",
    "    for v in d.values():\n",
    "        for j in v.keys():\n",
    "            if a.get(j) is None: \n",
    "                a[j] = v.get(j)\n",
    "            else: \n",
    "                a[j] = a[j] + v.get(j)\n",
    "       \n",
    "    print(a)   \n",
    "def F(d):\n",
    "    b={}\n",
    "    for k in d.keys():\n",
    "        s=0\n",
    "        w=0\n",
    "        for i in d.get(k).values(): \n",
    "            s = s + i \n",
    "        for pair in d.get(k).items():\n",
    "            w = w + int(pair[0])*pair[1] \n",
    "        b[k]=w/s\n",
    "    d9={i: b[i] for i in d.keys()}\n",
    "    print(d9)\n",
    "d = {'1a':{'1':3, '2':4, '3': 1, '4':2, '5': 4},\n",
    "     '1b':{'1':2, '2':6, '3': 3, '4':3, '5': 6},\n",
    "     '1c':{'1':1, '2':2, '3': 7, '4':2, '5': 4},\n",
    "     '1d':{'1':4, '2':5, '3': 12, '4':6, '5': 6}}\n",
    "f(d)\n",
    "F(d)"
   ]
  },
  {
   "cell_type": "code",
   "execution_count": 40,
   "metadata": {},
   "outputs": [
    {
     "name": "stdout",
     "output_type": "stream",
     "text": [
      "12\n",
      "23\n"
     ]
    }
   ],
   "source": [
    "from random import randint\n",
    "n=randint(40,61)\n",
    "a=0\n",
    "b=0\n",
    "v=0\n",
    "for i in range(n):\n",
    "    v = randint(-100,102)\n",
    "    if v % 4==3: \n",
    "        a = a + 1\n",
    "    if bin(v).count('1')%2!=0:\n",
    "        b = b + 1\n",
    "    \n",
    "print(a)\n",
    "print(b)"
   ]
  },
  {
   "cell_type": "code",
   "execution_count": 41,
   "metadata": {},
   "outputs": [
    {
     "name": "stdout",
     "output_type": "stream",
     "text": [
      "no\n",
      "no\n",
      "no\n",
      "no\n",
      "no\n",
      "no\n",
      "no\n",
      "no\n",
      "no\n",
      "yes\n",
      "no\n",
      "yes\n",
      "yes\n",
      "yes\n",
      "no\n",
      "no\n",
      "no\n",
      "no\n",
      "yes\n",
      "no\n"
     ]
    }
   ],
   "source": [
    "from random import randint\n",
    "n=randint(10,21)\n",
    "a=[]\n",
    "s=set()\n",
    "for i in range(n):\n",
    "    a.append(randint(0,21))\n",
    "for i in range(n) :\n",
    "    print(\"yes\" if a[i] in s else \"no\")\n",
    "    s.add(a[i])"
   ]
  },
  {
   "cell_type": "code",
   "execution_count": null,
   "metadata": {},
   "outputs": [],
   "source": []
  }
 ],
 "metadata": {
  "kernelspec": {
   "display_name": "Python 3",
   "language": "python",
   "name": "python3"
  },
  "language_info": {
   "codemirror_mode": {
    "name": "ipython",
    "version": 3
   },
   "file_extension": ".py",
   "mimetype": "text/x-python",
   "name": "python",
   "nbconvert_exporter": "python",
   "pygments_lexer": "ipython3",
   "version": "3.6.5"
  }
 },
 "nbformat": 4,
 "nbformat_minor": 2
}
